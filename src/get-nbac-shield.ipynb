{
 "cells": [
  {
   "cell_type": "code",
   "execution_count": 1,
   "id": "1981e0bf",
   "metadata": {},
   "outputs": [],
   "source": [
    "import ee \n",
    "import geemap\n",
    "import pandas as pd\n",
    "import ltgee\n",
    "from datetime import date\n",
    "import ipyleaflet"
   ]
  },
  {
   "cell_type": "code",
   "execution_count": 2,
   "id": "e6d232db",
   "metadata": {},
   "outputs": [
    {
     "data": {
      "text/html": [
       "\n",
       "            <style>\n",
       "                .geemap-dark {\n",
       "                    --jp-widgets-color: white;\n",
       "                    --jp-widgets-label-color: white;\n",
       "                    --jp-ui-font-color1: white;\n",
       "                    --jp-layout-color2: #454545;\n",
       "                    background-color: #383838;\n",
       "                }\n",
       "\n",
       "                .geemap-dark .jupyter-button {\n",
       "                    --jp-layout-color3: #383838;\n",
       "                }\n",
       "\n",
       "                .geemap-colab {\n",
       "                    background-color: var(--colab-primary-surface-color, white);\n",
       "                }\n",
       "\n",
       "                .geemap-colab .jupyter-button {\n",
       "                    --jp-layout-color3: var(--colab-primary-surface-color, white);\n",
       "                }\n",
       "            </style>\n",
       "            "
      ],
      "text/plain": [
       "<IPython.core.display.HTML object>"
      ]
     },
     "metadata": {},
     "output_type": "display_data"
    },
    {
     "data": {
      "text/plain": [
       "True"
      ]
     },
     "execution_count": 2,
     "metadata": {},
     "output_type": "execute_result"
    }
   ],
   "source": [
    "ee.Authenticate()"
   ]
  },
  {
   "cell_type": "code",
   "execution_count": 3,
   "id": "0a114306",
   "metadata": {},
   "outputs": [
    {
     "data": {
      "text/html": [
       "\n",
       "            <style>\n",
       "                .geemap-dark {\n",
       "                    --jp-widgets-color: white;\n",
       "                    --jp-widgets-label-color: white;\n",
       "                    --jp-ui-font-color1: white;\n",
       "                    --jp-layout-color2: #454545;\n",
       "                    background-color: #383838;\n",
       "                }\n",
       "\n",
       "                .geemap-dark .jupyter-button {\n",
       "                    --jp-layout-color3: #383838;\n",
       "                }\n",
       "\n",
       "                .geemap-colab {\n",
       "                    background-color: var(--colab-primary-surface-color, white);\n",
       "                }\n",
       "\n",
       "                .geemap-colab .jupyter-button {\n",
       "                    --jp-layout-color3: var(--colab-primary-surface-color, white);\n",
       "                }\n",
       "            </style>\n",
       "            "
      ],
      "text/plain": [
       "<IPython.core.display.HTML object>"
      ]
     },
     "metadata": {},
     "output_type": "display_data"
    }
   ],
   "source": [
    "ee.Initialize(project=\"ee-jandrewgoldman\")"
   ]
  },
  {
   "cell_type": "code",
   "execution_count": 4,
   "id": "abd49b69",
   "metadata": {},
   "outputs": [
    {
     "data": {
      "text/html": [
       "\n",
       "            <style>\n",
       "                .geemap-dark {\n",
       "                    --jp-widgets-color: white;\n",
       "                    --jp-widgets-label-color: white;\n",
       "                    --jp-ui-font-color1: white;\n",
       "                    --jp-layout-color2: #454545;\n",
       "                    background-color: #383838;\n",
       "                }\n",
       "\n",
       "                .geemap-dark .jupyter-button {\n",
       "                    --jp-layout-color3: #383838;\n",
       "                }\n",
       "\n",
       "                .geemap-colab {\n",
       "                    background-color: var(--colab-primary-surface-color, white);\n",
       "                }\n",
       "\n",
       "                .geemap-colab .jupyter-button {\n",
       "                    --jp-layout-color3: var(--colab-primary-surface-color, white);\n",
       "                }\n",
       "            </style>\n",
       "            "
      ],
      "text/plain": [
       "<IPython.core.display.HTML object>"
      ]
     },
     "metadata": {},
     "output_type": "display_data"
    }
   ],
   "source": [
    "shield = ee.FeatureCollection(\"users/jandrewgoldman/Ontario_Shield_v0\")"
   ]
  },
  {
   "cell_type": "code",
   "execution_count": 22,
   "id": "8f8aa8d1",
   "metadata": {},
   "outputs": [
    {
     "data": {
      "text/html": [
       "\n",
       "            <style>\n",
       "                .geemap-dark {\n",
       "                    --jp-widgets-color: white;\n",
       "                    --jp-widgets-label-color: white;\n",
       "                    --jp-ui-font-color1: white;\n",
       "                    --jp-layout-color2: #454545;\n",
       "                    background-color: #383838;\n",
       "                }\n",
       "\n",
       "                .geemap-dark .jupyter-button {\n",
       "                    --jp-layout-color3: #383838;\n",
       "                }\n",
       "\n",
       "                .geemap-colab {\n",
       "                    background-color: var(--colab-primary-surface-color, white);\n",
       "                }\n",
       "\n",
       "                .geemap-colab .jupyter-button {\n",
       "                    --jp-layout-color3: var(--colab-primary-surface-color, white);\n",
       "                }\n",
       "            </style>\n",
       "            "
      ],
      "text/plain": [
       "<IPython.core.display.HTML object>"
      ]
     },
     "metadata": {},
     "output_type": "display_data"
    }
   ],
   "source": [
    "nbac =ee.FeatureCollection(\"projects/sat-io/open-datasets/CA_FOREST/NBAC/nbac_1972_2023_20240530\").filter(ee.Filter.eq(\"ADMIN_AREA\", \"ON\")).filter(ee.Filter.gte(\"YEAR\", 1985)) \n"
   ]
  },
  {
   "cell_type": "code",
   "execution_count": null,
   "id": "d51be044",
   "metadata": {},
   "outputs": [
    {
     "data": {
      "text/html": [
       "\n",
       "            <style>\n",
       "                .geemap-dark {\n",
       "                    --jp-widgets-color: white;\n",
       "                    --jp-widgets-label-color: white;\n",
       "                    --jp-ui-font-color1: white;\n",
       "                    --jp-layout-color2: #454545;\n",
       "                    background-color: #383838;\n",
       "                }\n",
       "\n",
       "                .geemap-dark .jupyter-button {\n",
       "                    --jp-layout-color3: #383838;\n",
       "                }\n",
       "\n",
       "                .geemap-colab {\n",
       "                    background-color: var(--colab-primary-surface-color, white);\n",
       "                }\n",
       "\n",
       "                .geemap-colab .jupyter-button {\n",
       "                    --jp-layout-color3: var(--colab-primary-surface-color, white);\n",
       "                }\n",
       "            </style>\n",
       "            "
      ],
      "text/plain": [
       "<IPython.core.display.HTML object>"
      ]
     },
     "metadata": {},
     "output_type": "display_data"
    },
    {
     "name": "stdout",
     "output_type": "stream",
     "text": [
      "NBAC Ontario FeatureCollection size: 2805\n"
     ]
    }
   ],
   "source": [
    "nbac_size = nbac.size().getInfo()\n",
    "print(f\"NBAC Ontario FeatureCollection size: {nbac_size}\")\n"
   ]
  },
  {
   "cell_type": "code",
   "execution_count": 35,
   "id": "a2b4b2be",
   "metadata": {},
   "outputs": [
    {
     "data": {
      "text/html": [
       "\n",
       "            <style>\n",
       "                .geemap-dark {\n",
       "                    --jp-widgets-color: white;\n",
       "                    --jp-widgets-label-color: white;\n",
       "                    --jp-ui-font-color1: white;\n",
       "                    --jp-layout-color2: #454545;\n",
       "                    background-color: #383838;\n",
       "                }\n",
       "\n",
       "                .geemap-dark .jupyter-button {\n",
       "                    --jp-layout-color3: #383838;\n",
       "                }\n",
       "\n",
       "                .geemap-colab {\n",
       "                    background-color: var(--colab-primary-surface-color, white);\n",
       "                }\n",
       "\n",
       "                .geemap-colab .jupyter-button {\n",
       "                    --jp-layout-color3: var(--colab-primary-surface-color, white);\n",
       "                }\n",
       "            </style>\n",
       "            "
      ],
      "text/plain": [
       "<IPython.core.display.HTML object>"
      ]
     },
     "metadata": {},
     "output_type": "display_data"
    },
    {
     "name": "stdout",
     "output_type": "stream",
     "text": [
      "Properties of the first feature:\n",
      "ADJ_FLAG: true\n",
      "ADJ_HA: 41.9652645384\n",
      "ADMIN_AREA: ON\n",
      "AG_EDATE: 956905200000\n",
      "AG_SDATE: 956646000000\n",
      "BASRC: Agency\n",
      "CAPDATE: None\n",
      "FIRECAUS: Human\n",
      "FIREMAPM: Buffered points\n",
      "FIREMAPS: Undefined\n",
      "GID: 2000_529\n",
      "HS_EDATE: None\n",
      "HS_SDATE: None\n",
      "NATPARK: \n",
      "NFIREID: 529\n",
      "POLY_HA: 44.8099564591\n",
      "PRESCRIBED: \n",
      "VERSION: 20240530\n",
      "YEAR: 2000\n"
     ]
    }
   ],
   "source": [
    "# Print all properties of the first feature\n",
    "first_feature = nbac.first()\n",
    "print(\"Properties of the first feature:\")\n",
    "for property_name, property_value in first_feature.getInfo()['properties'].items():\n",
    "    print(f\"{property_name}: {property_value}\")\n"
   ]
  },
  {
   "cell_type": "code",
   "execution_count": 25,
   "id": "923a6364",
   "metadata": {},
   "outputs": [
    {
     "data": {
      "text/html": [
       "\n",
       "            <style>\n",
       "                .geemap-dark {\n",
       "                    --jp-widgets-color: white;\n",
       "                    --jp-widgets-label-color: white;\n",
       "                    --jp-ui-font-color1: white;\n",
       "                    --jp-layout-color2: #454545;\n",
       "                    background-color: #383838;\n",
       "                }\n",
       "\n",
       "                .geemap-dark .jupyter-button {\n",
       "                    --jp-layout-color3: #383838;\n",
       "                }\n",
       "\n",
       "                .geemap-colab {\n",
       "                    background-color: var(--colab-primary-surface-color, white);\n",
       "                }\n",
       "\n",
       "                .geemap-colab .jupyter-button {\n",
       "                    --jp-layout-color3: var(--colab-primary-surface-color, white);\n",
       "                }\n",
       "            </style>\n",
       "            "
      ],
      "text/plain": [
       "<IPython.core.display.HTML object>"
      ]
     },
     "metadata": {},
     "output_type": "display_data"
    }
   ],
   "source": [
    "# Clip the shield FeatureCollection to the nbac FeatureCollection\n",
    "nbac_shield = nbac.filterBounds(shield.geometry())"
   ]
  },
  {
   "cell_type": "code",
   "execution_count": 26,
   "id": "f93773b5",
   "metadata": {},
   "outputs": [
    {
     "data": {
      "text/html": [
       "\n",
       "            <style>\n",
       "                .geemap-dark {\n",
       "                    --jp-widgets-color: white;\n",
       "                    --jp-widgets-label-color: white;\n",
       "                    --jp-ui-font-color1: white;\n",
       "                    --jp-layout-color2: #454545;\n",
       "                    background-color: #383838;\n",
       "                }\n",
       "\n",
       "                .geemap-dark .jupyter-button {\n",
       "                    --jp-layout-color3: #383838;\n",
       "                }\n",
       "\n",
       "                .geemap-colab {\n",
       "                    background-color: var(--colab-primary-surface-color, white);\n",
       "                }\n",
       "\n",
       "                .geemap-colab .jupyter-button {\n",
       "                    --jp-layout-color3: var(--colab-primary-surface-color, white);\n",
       "                }\n",
       "            </style>\n",
       "            "
      ],
      "text/plain": [
       "<IPython.core.display.HTML object>"
      ]
     },
     "metadata": {},
     "output_type": "display_data"
    },
    {
     "name": "stdout",
     "output_type": "stream",
     "text": [
      "NBAC Ontario Shield FeatureCollection size: 2288\n"
     ]
    }
   ],
   "source": [
    "nbac_shield_size = nbac_shield.size().getInfo()\n",
    "print(f\"NBAC Ontario Shield FeatureCollection size: {nbac_shield_size}\")"
   ]
  },
  {
   "cell_type": "code",
   "execution_count": 28,
   "id": "9fb3a7e4",
   "metadata": {},
   "outputs": [
    {
     "data": {
      "text/html": [
       "\n",
       "            <style>\n",
       "                .geemap-dark {\n",
       "                    --jp-widgets-color: white;\n",
       "                    --jp-widgets-label-color: white;\n",
       "                    --jp-ui-font-color1: white;\n",
       "                    --jp-layout-color2: #454545;\n",
       "                    background-color: #383838;\n",
       "                }\n",
       "\n",
       "                .geemap-dark .jupyter-button {\n",
       "                    --jp-layout-color3: #383838;\n",
       "                }\n",
       "\n",
       "                .geemap-colab {\n",
       "                    background-color: var(--colab-primary-surface-color, white);\n",
       "                }\n",
       "\n",
       "                .geemap-colab .jupyter-button {\n",
       "                    --jp-layout-color3: var(--colab-primary-surface-color, white);\n",
       "                }\n",
       "            </style>\n",
       "            "
      ],
      "text/plain": [
       "<IPython.core.display.HTML object>"
      ]
     },
     "metadata": {},
     "output_type": "display_data"
    },
    {
     "data": {
      "application/vnd.jupyter.widget-view+json": {
       "model_id": "d2b912346ece4cf48712d5765f7a5ce4",
       "version_major": 2,
       "version_minor": 0
      },
      "text/plain": [
       "Map(center=[49.99999999999999, -85], controls=(WidgetControl(options=['position', 'transparent_bg'], widget=Se…"
      ]
     },
     "execution_count": 28,
     "metadata": {},
     "output_type": "execute_result"
    }
   ],
   "source": [
    "\n",
    "# For a more precise clip, you can also use:\n",
    "# clipped_shield = shield.map(function(feature) {\n",
    "#   return feature.intersection(nbac.geometry());\n",
    "# })\n",
    "\n",
    "# Visualize the result\n",
    "m = geemap.Map()\n",
    "m.add_layer(nbac_shield, {}, 'Clipped Shield')\n",
    "m.add_layer(nbac, {'color': 'blue'}, 'NBAC Ontario', False)\n",
    "m.center_object(ee.Geometry.Point([-85, 50]), 5)  # Approximate center of Ontario\n",
    "m"
   ]
  },
  {
   "cell_type": "markdown",
   "id": "df7d481c",
   "metadata": {},
   "source": [
    "For NBAC shield, lets get VPD"
   ]
  },
  {
   "cell_type": "code",
   "execution_count": 30,
   "id": "a70d5713",
   "metadata": {},
   "outputs": [
    {
     "data": {
      "text/html": [
       "\n",
       "            <style>\n",
       "                .geemap-dark {\n",
       "                    --jp-widgets-color: white;\n",
       "                    --jp-widgets-label-color: white;\n",
       "                    --jp-ui-font-color1: white;\n",
       "                    --jp-layout-color2: #454545;\n",
       "                    background-color: #383838;\n",
       "                }\n",
       "\n",
       "                .geemap-dark .jupyter-button {\n",
       "                    --jp-layout-color3: #383838;\n",
       "                }\n",
       "\n",
       "                .geemap-colab {\n",
       "                    background-color: var(--colab-primary-surface-color, white);\n",
       "                }\n",
       "\n",
       "                .geemap-colab .jupyter-button {\n",
       "                    --jp-layout-color3: var(--colab-primary-surface-color, white);\n",
       "                }\n",
       "            </style>\n",
       "            "
      ],
      "text/plain": [
       "<IPython.core.display.HTML object>"
      ]
     },
     "metadata": {},
     "output_type": "display_data"
    },
    {
     "name": "stdout",
     "output_type": "stream",
     "text": [
      "Unique values of the 'FIRE_CAUSE' property in the nbac_shield FeatureCollection:\n",
      "Human\n",
      "Undetermined\n",
      "Natural\n"
     ]
    }
   ],
   "source": [
    "#print the all levels of values of a property in the nbac_shield FeatureCollection\n",
    "def get_unique_values(feature_collection, property_name):\n",
    "    # Get the unique values of a property in a FeatureCollection\n",
    "    unique_values = feature_collection.aggregate_array(property_name).getInfo()\n",
    "    return set(unique_values)\n",
    "\n",
    "# Get the unique values of the \"SPECIES\" property  \n",
    "unique_cause = get_unique_values(nbac_shield, \"FIRECAUS\")\n",
    "print(\"Unique values of the 'FIRE_CAUSE' property in the nbac_shield FeatureCollection:\")\n",
    "for value in unique_cause:\n",
    "    print(value)"
   ]
  },
  {
   "cell_type": "markdown",
   "id": "f365be01",
   "metadata": {},
   "source": [
    "remove all human and undetermined"
   ]
  },
  {
   "cell_type": "code",
   "execution_count": 32,
   "id": "7cf0c2b8",
   "metadata": {},
   "outputs": [
    {
     "data": {
      "text/html": [
       "\n",
       "            <style>\n",
       "                .geemap-dark {\n",
       "                    --jp-widgets-color: white;\n",
       "                    --jp-widgets-label-color: white;\n",
       "                    --jp-ui-font-color1: white;\n",
       "                    --jp-layout-color2: #454545;\n",
       "                    background-color: #383838;\n",
       "                }\n",
       "\n",
       "                .geemap-dark .jupyter-button {\n",
       "                    --jp-layout-color3: #383838;\n",
       "                }\n",
       "\n",
       "                .geemap-colab {\n",
       "                    background-color: var(--colab-primary-surface-color, white);\n",
       "                }\n",
       "\n",
       "                .geemap-colab .jupyter-button {\n",
       "                    --jp-layout-color3: var(--colab-primary-surface-color, white);\n",
       "                }\n",
       "            </style>\n",
       "            "
      ],
      "text/plain": [
       "<IPython.core.display.HTML object>"
      ]
     },
     "metadata": {},
     "output_type": "display_data"
    },
    {
     "name": "stdout",
     "output_type": "stream",
     "text": [
      "NBAC Ontario Shield FeatureCollection size with natural fire cause: 1394\n"
     ]
    }
   ],
   "source": [
    "nbac_shield_natural = nbac_shield.filter(ee.Filter.eq(\"FIRECAUS\", \"Natural\"))\n",
    "nbac_shield_natural_size = nbac_shield_natural.size().getInfo()\n",
    "print(f\"NBAC Ontario Shield FeatureCollection size with natural fire cause: {nbac_shield_natural_size}\")"
   ]
  },
  {
   "cell_type": "code",
   "execution_count": 33,
   "id": "1a7e0c87",
   "metadata": {},
   "outputs": [
    {
     "data": {
      "text/html": [
       "\n",
       "            <style>\n",
       "                .geemap-dark {\n",
       "                    --jp-widgets-color: white;\n",
       "                    --jp-widgets-label-color: white;\n",
       "                    --jp-ui-font-color1: white;\n",
       "                    --jp-layout-color2: #454545;\n",
       "                    background-color: #383838;\n",
       "                }\n",
       "\n",
       "                .geemap-dark .jupyter-button {\n",
       "                    --jp-layout-color3: #383838;\n",
       "                }\n",
       "\n",
       "                .geemap-colab {\n",
       "                    background-color: var(--colab-primary-surface-color, white);\n",
       "                }\n",
       "\n",
       "                .geemap-colab .jupyter-button {\n",
       "                    --jp-layout-color3: var(--colab-primary-surface-color, white);\n",
       "                }\n",
       "            </style>\n",
       "            "
      ],
      "text/plain": [
       "<IPython.core.display.HTML object>"
      ]
     },
     "metadata": {},
     "output_type": "display_data"
    },
    {
     "name": "stdout",
     "output_type": "stream",
     "text": [
      "NBAC Ontario Shield FeatureCollection size with undetermined fire cause: 664\n"
     ]
    }
   ],
   "source": [
    "nbac_shield_undetermined  = nbac_shield.filter(ee.Filter.eq(\"FIRECAUS\", \"Undetermined\"))\n",
    "nbac_shield_undetermined_size = nbac_shield_undetermined.size().getInfo()\n",
    "print(f\"NBAC Ontario Shield FeatureCollection size with undetermined fire cause: {nbac_shield_undetermined_size}\")"
   ]
  },
  {
   "cell_type": "markdown",
   "id": "e98f1c58",
   "metadata": {},
   "source": [
    "Remove all fires greater than 50ha"
   ]
  },
  {
   "cell_type": "code",
   "execution_count": 36,
   "id": "e55eb5be",
   "metadata": {},
   "outputs": [
    {
     "data": {
      "text/html": [
       "\n",
       "            <style>\n",
       "                .geemap-dark {\n",
       "                    --jp-widgets-color: white;\n",
       "                    --jp-widgets-label-color: white;\n",
       "                    --jp-ui-font-color1: white;\n",
       "                    --jp-layout-color2: #454545;\n",
       "                    background-color: #383838;\n",
       "                }\n",
       "\n",
       "                .geemap-dark .jupyter-button {\n",
       "                    --jp-layout-color3: #383838;\n",
       "                }\n",
       "\n",
       "                .geemap-colab {\n",
       "                    background-color: var(--colab-primary-surface-color, white);\n",
       "                }\n",
       "\n",
       "                .geemap-colab .jupyter-button {\n",
       "                    --jp-layout-color3: var(--colab-primary-surface-color, white);\n",
       "                }\n",
       "            </style>\n",
       "            "
      ],
      "text/plain": [
       "<IPython.core.display.HTML object>"
      ]
     },
     "metadata": {},
     "output_type": "display_data"
    },
    {
     "name": "stdout",
     "output_type": "stream",
     "text": [
      "NBAC Ontario Shield FeatureCollection size with natural fire cause and greater than 50 hectares: 1322\n"
     ]
    }
   ],
   "source": [
    "nbac_shield_nat_gt50 = nbac_shield_natural.filter(ee.Filter.gte(\"POLY_HA\", 50))\n",
    "nbac_shield_nat_gt50_size = nbac_shield_nat_gt50.size().getInfo()\n",
    "print(f\"NBAC Ontario Shield FeatureCollection size with natural fire cause and greater than 50 hectares: {nbac_shield_nat_gt50_size}\")"
   ]
  },
  {
   "cell_type": "markdown",
   "id": "86ecc6ea",
   "metadata": {},
   "source": [
    "GET AGENCY START DATE AS YMD"
   ]
  },
  {
   "cell_type": "code",
   "execution_count": 39,
   "id": "42241704",
   "metadata": {},
   "outputs": [
    {
     "data": {
      "text/html": [
       "\n",
       "            <style>\n",
       "                .geemap-dark {\n",
       "                    --jp-widgets-color: white;\n",
       "                    --jp-widgets-label-color: white;\n",
       "                    --jp-ui-font-color1: white;\n",
       "                    --jp-layout-color2: #454545;\n",
       "                    background-color: #383838;\n",
       "                }\n",
       "\n",
       "                .geemap-dark .jupyter-button {\n",
       "                    --jp-layout-color3: #383838;\n",
       "                }\n",
       "\n",
       "                .geemap-colab {\n",
       "                    background-color: var(--colab-primary-surface-color, white);\n",
       "                }\n",
       "\n",
       "                .geemap-colab .jupyter-button {\n",
       "                    --jp-layout-color3: var(--colab-primary-surface-color, white);\n",
       "                }\n",
       "            </style>\n",
       "            "
      ],
      "text/plain": [
       "<IPython.core.display.HTML object>"
      ]
     },
     "metadata": {},
     "output_type": "display_data"
    },
    {
     "name": "stdout",
     "output_type": "stream",
     "text": [
      "ADJ_FLAG: true\n",
      "ADJ_HA: 66.6419217477\n",
      "ADMIN_AREA: ON\n",
      "AG_EDATE: 1534575600000\n",
      "AG_SDATE: {'type': 'Date', 'value': 1531897200000}\n",
      "AG_SDATE_YMD: 2018-07-18\n",
      "BASRC: Agency\n",
      "FIRECAUS: Natural\n",
      "FIREMAPM: Undefined\n",
      "FIREMAPS: Undefined\n",
      "FIRE_MONTH: 7\n",
      "GID: 2018_1084\n",
      "HS_EDATE: 1532156400000\n",
      "HS_SDATE: 1532156400000\n",
      "NATPARK: \n",
      "NFIREID: 1084\n",
      "POLY_HA: 72.4925677237\n",
      "PRESCRIBED: \n",
      "VERSION: 20240530\n",
      "YEAR: 2018\n"
     ]
    }
   ],
   "source": [
    "# get AG_SDATE as date object YMD\n",
    "def convert_to_date(feature):\n",
    "    ag_sdate = feature.get('AG_SDATE')\n",
    "    # Convert to ee.Date and format as YYYY-MM-DD\n",
    "    date_object = ee.Date(ag_sdate)\n",
    "    formatted_date = date_object.format('YYYY-MM-dd')\n",
    "    month = date_object.get('month')\n",
    "    \n",
    "    # Set both the original date and formatted date as properties\n",
    "    return feature.set({\n",
    "        'AG_SDATE': date_object,\n",
    "        'AG_SDATE_YMD': formatted_date,\n",
    "        'FIRE_MONTH': month \n",
    "    })\n",
    "nbac_shield_nat_gt50 = nbac_shield_nat_gt50.map(convert_to_date)\n",
    "\n",
    "for property_name, property_value in nbac_shield_nat_gt50.first().getInfo()['properties'].items():\n",
    "    print(f\"{property_name}: {property_value}\")"
   ]
  },
  {
   "cell_type": "markdown",
   "id": "76fb859e",
   "metadata": {},
   "source": [
    "Get ERA VPD for each month prior to fire"
   ]
  }
 ],
 "metadata": {
  "kernelspec": {
   "display_name": "geospatial_env2",
   "language": "python",
   "name": "geospatial_env2"
  },
  "language_info": {
   "codemirror_mode": {
    "name": "ipython",
    "version": 3
   },
   "file_extension": ".py",
   "mimetype": "text/x-python",
   "name": "python",
   "nbconvert_exporter": "python",
   "pygments_lexer": "ipython3",
   "version": "3.11.11"
  }
 },
 "nbformat": 4,
 "nbformat_minor": 5
}
