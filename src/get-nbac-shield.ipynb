{
 "cells": [
  {
   "cell_type": "code",
   "execution_count": 1,
   "id": "1981e0bf",
   "metadata": {},
   "outputs": [],
   "source": [
    "import ee \n",
    "import geemap\n",
    "import pandas as pd\n",
    "import geopandas as gpd\n",
    "import ltgee\n",
    "from datetime import date\n",
    "import ipyleaflet\n",
    "import rioxarray as rxr"
   ]
  },
  {
   "cell_type": "code",
   "execution_count": 13,
   "id": "e6d232db",
   "metadata": {},
   "outputs": [
    {
     "data": {
      "text/html": [
       "\n",
       "            <style>\n",
       "                .geemap-dark {\n",
       "                    --jp-widgets-color: white;\n",
       "                    --jp-widgets-label-color: white;\n",
       "                    --jp-ui-font-color1: white;\n",
       "                    --jp-layout-color2: #454545;\n",
       "                    background-color: #383838;\n",
       "                }\n",
       "\n",
       "                .geemap-dark .jupyter-button {\n",
       "                    --jp-layout-color3: #383838;\n",
       "                }\n",
       "\n",
       "                .geemap-colab {\n",
       "                    background-color: var(--colab-primary-surface-color, white);\n",
       "                }\n",
       "\n",
       "                .geemap-colab .jupyter-button {\n",
       "                    --jp-layout-color3: var(--colab-primary-surface-color, white);\n",
       "                }\n",
       "            </style>\n",
       "            "
      ],
      "text/plain": [
       "<IPython.core.display.HTML object>"
      ]
     },
     "metadata": {},
     "output_type": "display_data"
    },
    {
     "data": {
      "text/plain": [
       "True"
      ]
     },
     "execution_count": 13,
     "metadata": {},
     "output_type": "execute_result"
    }
   ],
   "source": [
    "ee.Authenticate()"
   ]
  },
  {
   "cell_type": "code",
   "execution_count": 2,
   "id": "0a114306",
   "metadata": {},
   "outputs": [
    {
     "data": {
      "text/html": [
       "\n",
       "            <style>\n",
       "                .geemap-dark {\n",
       "                    --jp-widgets-color: white;\n",
       "                    --jp-widgets-label-color: white;\n",
       "                    --jp-ui-font-color1: white;\n",
       "                    --jp-layout-color2: #454545;\n",
       "                    background-color: #383838;\n",
       "                }\n",
       "\n",
       "                .geemap-dark .jupyter-button {\n",
       "                    --jp-layout-color3: #383838;\n",
       "                }\n",
       "\n",
       "                .geemap-colab {\n",
       "                    background-color: var(--colab-primary-surface-color, white);\n",
       "                }\n",
       "\n",
       "                .geemap-colab .jupyter-button {\n",
       "                    --jp-layout-color3: var(--colab-primary-surface-color, white);\n",
       "                }\n",
       "            </style>\n",
       "            "
      ],
      "text/plain": [
       "<IPython.core.display.HTML object>"
      ]
     },
     "metadata": {},
     "output_type": "display_data"
    }
   ],
   "source": [
    "ee.Initialize(project=\"ee-jandrewgoldman\")"
   ]
  },
  {
   "cell_type": "code",
   "execution_count": 3,
   "id": "abd49b69",
   "metadata": {},
   "outputs": [
    {
     "data": {
      "text/html": [
       "\n",
       "            <style>\n",
       "                .geemap-dark {\n",
       "                    --jp-widgets-color: white;\n",
       "                    --jp-widgets-label-color: white;\n",
       "                    --jp-ui-font-color1: white;\n",
       "                    --jp-layout-color2: #454545;\n",
       "                    background-color: #383838;\n",
       "                }\n",
       "\n",
       "                .geemap-dark .jupyter-button {\n",
       "                    --jp-layout-color3: #383838;\n",
       "                }\n",
       "\n",
       "                .geemap-colab {\n",
       "                    background-color: var(--colab-primary-surface-color, white);\n",
       "                }\n",
       "\n",
       "                .geemap-colab .jupyter-button {\n",
       "                    --jp-layout-color3: var(--colab-primary-surface-color, white);\n",
       "                }\n",
       "            </style>\n",
       "            "
      ],
      "text/plain": [
       "<IPython.core.display.HTML object>"
      ]
     },
     "metadata": {},
     "output_type": "display_data"
    }
   ],
   "source": [
    "shield = ee.FeatureCollection(\"users/jandrewgoldman/Ontario_Shield_v0\")"
   ]
  },
  {
   "cell_type": "code",
   "execution_count": 4,
   "id": "8f8aa8d1",
   "metadata": {},
   "outputs": [
    {
     "data": {
      "text/html": [
       "\n",
       "            <style>\n",
       "                .geemap-dark {\n",
       "                    --jp-widgets-color: white;\n",
       "                    --jp-widgets-label-color: white;\n",
       "                    --jp-ui-font-color1: white;\n",
       "                    --jp-layout-color2: #454545;\n",
       "                    background-color: #383838;\n",
       "                }\n",
       "\n",
       "                .geemap-dark .jupyter-button {\n",
       "                    --jp-layout-color3: #383838;\n",
       "                }\n",
       "\n",
       "                .geemap-colab {\n",
       "                    background-color: var(--colab-primary-surface-color, white);\n",
       "                }\n",
       "\n",
       "                .geemap-colab .jupyter-button {\n",
       "                    --jp-layout-color3: var(--colab-primary-surface-color, white);\n",
       "                }\n",
       "            </style>\n",
       "            "
      ],
      "text/plain": [
       "<IPython.core.display.HTML object>"
      ]
     },
     "metadata": {},
     "output_type": "display_data"
    }
   ],
   "source": [
    "nbac =ee.FeatureCollection(\"projects/sat-io/open-datasets/CA_FOREST/NBAC/nbac_1972_2023_20240530\").filter(ee.Filter.eq(\"ADMIN_AREA\", \"ON\")).filter(ee.Filter.gte(\"YEAR\", 1985)) \n"
   ]
  },
  {
   "cell_type": "code",
   "execution_count": 5,
   "id": "d51be044",
   "metadata": {},
   "outputs": [
    {
     "data": {
      "text/html": [
       "\n",
       "            <style>\n",
       "                .geemap-dark {\n",
       "                    --jp-widgets-color: white;\n",
       "                    --jp-widgets-label-color: white;\n",
       "                    --jp-ui-font-color1: white;\n",
       "                    --jp-layout-color2: #454545;\n",
       "                    background-color: #383838;\n",
       "                }\n",
       "\n",
       "                .geemap-dark .jupyter-button {\n",
       "                    --jp-layout-color3: #383838;\n",
       "                }\n",
       "\n",
       "                .geemap-colab {\n",
       "                    background-color: var(--colab-primary-surface-color, white);\n",
       "                }\n",
       "\n",
       "                .geemap-colab .jupyter-button {\n",
       "                    --jp-layout-color3: var(--colab-primary-surface-color, white);\n",
       "                }\n",
       "            </style>\n",
       "            "
      ],
      "text/plain": [
       "<IPython.core.display.HTML object>"
      ]
     },
     "metadata": {},
     "output_type": "display_data"
    },
    {
     "name": "stdout",
     "output_type": "stream",
     "text": [
      "NBAC Ontario FeatureCollection size: 2805\n"
     ]
    }
   ],
   "source": [
    "nbac_size = nbac.size().getInfo()\n",
    "print(f\"NBAC Ontario FeatureCollection size: {nbac_size}\")\n"
   ]
  },
  {
   "cell_type": "code",
   "execution_count": 6,
   "id": "a2b4b2be",
   "metadata": {},
   "outputs": [
    {
     "data": {
      "text/html": [
       "\n",
       "            <style>\n",
       "                .geemap-dark {\n",
       "                    --jp-widgets-color: white;\n",
       "                    --jp-widgets-label-color: white;\n",
       "                    --jp-ui-font-color1: white;\n",
       "                    --jp-layout-color2: #454545;\n",
       "                    background-color: #383838;\n",
       "                }\n",
       "\n",
       "                .geemap-dark .jupyter-button {\n",
       "                    --jp-layout-color3: #383838;\n",
       "                }\n",
       "\n",
       "                .geemap-colab {\n",
       "                    background-color: var(--colab-primary-surface-color, white);\n",
       "                }\n",
       "\n",
       "                .geemap-colab .jupyter-button {\n",
       "                    --jp-layout-color3: var(--colab-primary-surface-color, white);\n",
       "                }\n",
       "            </style>\n",
       "            "
      ],
      "text/plain": [
       "<IPython.core.display.HTML object>"
      ]
     },
     "metadata": {},
     "output_type": "display_data"
    },
    {
     "name": "stdout",
     "output_type": "stream",
     "text": [
      "Properties of the first feature:\n",
      "ADJ_FLAG: true\n",
      "ADJ_HA: 41.9652645384\n",
      "ADMIN_AREA: ON\n",
      "AG_EDATE: 956905200000\n",
      "AG_SDATE: 956646000000\n",
      "BASRC: Agency\n",
      "CAPDATE: None\n",
      "FIRECAUS: Human\n",
      "FIREMAPM: Buffered points\n",
      "FIREMAPS: Undefined\n",
      "GID: 2000_529\n",
      "HS_EDATE: None\n",
      "HS_SDATE: None\n",
      "NATPARK: \n",
      "NFIREID: 529\n",
      "POLY_HA: 44.8099564591\n",
      "PRESCRIBED: \n",
      "VERSION: 20240530\n",
      "YEAR: 2000\n"
     ]
    }
   ],
   "source": [
    "# Print all properties of the first feature\n",
    "first_feature = nbac.first()\n",
    "print(\"Properties of the first feature:\")\n",
    "for property_name, property_value in first_feature.getInfo()['properties'].items():\n",
    "    print(f\"{property_name}: {property_value}\")\n"
   ]
  },
  {
   "cell_type": "code",
   "execution_count": 7,
   "id": "923a6364",
   "metadata": {},
   "outputs": [
    {
     "data": {
      "text/html": [
       "\n",
       "            <style>\n",
       "                .geemap-dark {\n",
       "                    --jp-widgets-color: white;\n",
       "                    --jp-widgets-label-color: white;\n",
       "                    --jp-ui-font-color1: white;\n",
       "                    --jp-layout-color2: #454545;\n",
       "                    background-color: #383838;\n",
       "                }\n",
       "\n",
       "                .geemap-dark .jupyter-button {\n",
       "                    --jp-layout-color3: #383838;\n",
       "                }\n",
       "\n",
       "                .geemap-colab {\n",
       "                    background-color: var(--colab-primary-surface-color, white);\n",
       "                }\n",
       "\n",
       "                .geemap-colab .jupyter-button {\n",
       "                    --jp-layout-color3: var(--colab-primary-surface-color, white);\n",
       "                }\n",
       "            </style>\n",
       "            "
      ],
      "text/plain": [
       "<IPython.core.display.HTML object>"
      ]
     },
     "metadata": {},
     "output_type": "display_data"
    }
   ],
   "source": [
    "# Clip the shield FeatureCollection to the nbac FeatureCollection\n",
    "nbac_shield = nbac.filterBounds(shield.geometry())"
   ]
  },
  {
   "cell_type": "code",
   "execution_count": 26,
   "id": "f93773b5",
   "metadata": {},
   "outputs": [
    {
     "data": {
      "text/html": [
       "\n",
       "            <style>\n",
       "                .geemap-dark {\n",
       "                    --jp-widgets-color: white;\n",
       "                    --jp-widgets-label-color: white;\n",
       "                    --jp-ui-font-color1: white;\n",
       "                    --jp-layout-color2: #454545;\n",
       "                    background-color: #383838;\n",
       "                }\n",
       "\n",
       "                .geemap-dark .jupyter-button {\n",
       "                    --jp-layout-color3: #383838;\n",
       "                }\n",
       "\n",
       "                .geemap-colab {\n",
       "                    background-color: var(--colab-primary-surface-color, white);\n",
       "                }\n",
       "\n",
       "                .geemap-colab .jupyter-button {\n",
       "                    --jp-layout-color3: var(--colab-primary-surface-color, white);\n",
       "                }\n",
       "            </style>\n",
       "            "
      ],
      "text/plain": [
       "<IPython.core.display.HTML object>"
      ]
     },
     "metadata": {},
     "output_type": "display_data"
    },
    {
     "name": "stdout",
     "output_type": "stream",
     "text": [
      "NBAC Ontario Shield FeatureCollection size: 2288\n"
     ]
    }
   ],
   "source": [
    "nbac_shield_size = nbac_shield.size().getInfo()\n",
    "print(f\"NBAC Ontario Shield FeatureCollection size: {nbac_shield_size}\")"
   ]
  },
  {
   "cell_type": "code",
   "execution_count": 28,
   "id": "9fb3a7e4",
   "metadata": {},
   "outputs": [
    {
     "data": {
      "text/html": [
       "\n",
       "            <style>\n",
       "                .geemap-dark {\n",
       "                    --jp-widgets-color: white;\n",
       "                    --jp-widgets-label-color: white;\n",
       "                    --jp-ui-font-color1: white;\n",
       "                    --jp-layout-color2: #454545;\n",
       "                    background-color: #383838;\n",
       "                }\n",
       "\n",
       "                .geemap-dark .jupyter-button {\n",
       "                    --jp-layout-color3: #383838;\n",
       "                }\n",
       "\n",
       "                .geemap-colab {\n",
       "                    background-color: var(--colab-primary-surface-color, white);\n",
       "                }\n",
       "\n",
       "                .geemap-colab .jupyter-button {\n",
       "                    --jp-layout-color3: var(--colab-primary-surface-color, white);\n",
       "                }\n",
       "            </style>\n",
       "            "
      ],
      "text/plain": [
       "<IPython.core.display.HTML object>"
      ]
     },
     "metadata": {},
     "output_type": "display_data"
    },
    {
     "data": {
      "application/vnd.jupyter.widget-view+json": {
       "model_id": "d2b912346ece4cf48712d5765f7a5ce4",
       "version_major": 2,
       "version_minor": 0
      },
      "text/plain": [
       "Map(center=[49.99999999999999, -85], controls=(WidgetControl(options=['position', 'transparent_bg'], widget=Se…"
      ]
     },
     "execution_count": 28,
     "metadata": {},
     "output_type": "execute_result"
    }
   ],
   "source": [
    "\n",
    "# For a more precise clip, you can also use:\n",
    "# clipped_shield = shield.map(function(feature) {\n",
    "#   return feature.intersection(nbac.geometry());\n",
    "# })\n",
    "\n",
    "# Visualize the result\n",
    "m = geemap.Map()\n",
    "m.add_layer(nbac_shield, {}, 'Clipped Shield')\n",
    "m.add_layer(nbac, {'color': 'blue'}, 'NBAC Ontario', False)\n",
    "m.center_object(ee.Geometry.Point([-85, 50]), 5)  # Approximate center of Ontario\n",
    "m"
   ]
  },
  {
   "cell_type": "code",
   "execution_count": 30,
   "id": "a70d5713",
   "metadata": {},
   "outputs": [
    {
     "data": {
      "text/html": [
       "\n",
       "            <style>\n",
       "                .geemap-dark {\n",
       "                    --jp-widgets-color: white;\n",
       "                    --jp-widgets-label-color: white;\n",
       "                    --jp-ui-font-color1: white;\n",
       "                    --jp-layout-color2: #454545;\n",
       "                    background-color: #383838;\n",
       "                }\n",
       "\n",
       "                .geemap-dark .jupyter-button {\n",
       "                    --jp-layout-color3: #383838;\n",
       "                }\n",
       "\n",
       "                .geemap-colab {\n",
       "                    background-color: var(--colab-primary-surface-color, white);\n",
       "                }\n",
       "\n",
       "                .geemap-colab .jupyter-button {\n",
       "                    --jp-layout-color3: var(--colab-primary-surface-color, white);\n",
       "                }\n",
       "            </style>\n",
       "            "
      ],
      "text/plain": [
       "<IPython.core.display.HTML object>"
      ]
     },
     "metadata": {},
     "output_type": "display_data"
    },
    {
     "name": "stdout",
     "output_type": "stream",
     "text": [
      "Unique values of the 'FIRE_CAUSE' property in the nbac_shield FeatureCollection:\n",
      "Human\n",
      "Undetermined\n",
      "Natural\n"
     ]
    }
   ],
   "source": [
    "#print the all levels of values of a property in the nbac_shield FeatureCollection\n",
    "def get_unique_values(feature_collection, property_name):\n",
    "    # Get the unique values of a property in a FeatureCollection\n",
    "    unique_values = feature_collection.aggregate_array(property_name).getInfo()\n",
    "    return set(unique_values)\n",
    "\n",
    "# Get the unique values of the \"SPECIES\" property  \n",
    "unique_cause = get_unique_values(nbac_shield, \"FIRECAUS\")\n",
    "print(\"Unique values of the 'FIRE_CAUSE' property in the nbac_shield FeatureCollection:\")\n",
    "for value in unique_cause:\n",
    "    print(value)"
   ]
  },
  {
   "cell_type": "markdown",
   "id": "f365be01",
   "metadata": {},
   "source": [
    "remove all human and undetermined"
   ]
  },
  {
   "cell_type": "code",
   "execution_count": 8,
   "id": "7cf0c2b8",
   "metadata": {},
   "outputs": [
    {
     "data": {
      "text/html": [
       "\n",
       "            <style>\n",
       "                .geemap-dark {\n",
       "                    --jp-widgets-color: white;\n",
       "                    --jp-widgets-label-color: white;\n",
       "                    --jp-ui-font-color1: white;\n",
       "                    --jp-layout-color2: #454545;\n",
       "                    background-color: #383838;\n",
       "                }\n",
       "\n",
       "                .geemap-dark .jupyter-button {\n",
       "                    --jp-layout-color3: #383838;\n",
       "                }\n",
       "\n",
       "                .geemap-colab {\n",
       "                    background-color: var(--colab-primary-surface-color, white);\n",
       "                }\n",
       "\n",
       "                .geemap-colab .jupyter-button {\n",
       "                    --jp-layout-color3: var(--colab-primary-surface-color, white);\n",
       "                }\n",
       "            </style>\n",
       "            "
      ],
      "text/plain": [
       "<IPython.core.display.HTML object>"
      ]
     },
     "metadata": {},
     "output_type": "display_data"
    },
    {
     "name": "stdout",
     "output_type": "stream",
     "text": [
      "NBAC Ontario Shield FeatureCollection size with natural fire cause: 1394\n"
     ]
    }
   ],
   "source": [
    "nbac_shield_natural = nbac_shield.filter(ee.Filter.eq(\"FIRECAUS\", \"Natural\"))\n",
    "nbac_shield_natural_size = nbac_shield_natural.size().getInfo()\n",
    "print(f\"NBAC Ontario Shield FeatureCollection size with natural fire cause: {nbac_shield_natural_size}\")"
   ]
  },
  {
   "cell_type": "code",
   "execution_count": 33,
   "id": "1a7e0c87",
   "metadata": {},
   "outputs": [
    {
     "data": {
      "text/html": [
       "\n",
       "            <style>\n",
       "                .geemap-dark {\n",
       "                    --jp-widgets-color: white;\n",
       "                    --jp-widgets-label-color: white;\n",
       "                    --jp-ui-font-color1: white;\n",
       "                    --jp-layout-color2: #454545;\n",
       "                    background-color: #383838;\n",
       "                }\n",
       "\n",
       "                .geemap-dark .jupyter-button {\n",
       "                    --jp-layout-color3: #383838;\n",
       "                }\n",
       "\n",
       "                .geemap-colab {\n",
       "                    background-color: var(--colab-primary-surface-color, white);\n",
       "                }\n",
       "\n",
       "                .geemap-colab .jupyter-button {\n",
       "                    --jp-layout-color3: var(--colab-primary-surface-color, white);\n",
       "                }\n",
       "            </style>\n",
       "            "
      ],
      "text/plain": [
       "<IPython.core.display.HTML object>"
      ]
     },
     "metadata": {},
     "output_type": "display_data"
    },
    {
     "name": "stdout",
     "output_type": "stream",
     "text": [
      "NBAC Ontario Shield FeatureCollection size with undetermined fire cause: 664\n"
     ]
    }
   ],
   "source": [
    "nbac_shield_undetermined  = nbac_shield.filter(ee.Filter.eq(\"FIRECAUS\", \"Undetermined\"))\n",
    "nbac_shield_undetermined_size = nbac_shield_undetermined.size().getInfo()\n",
    "print(f\"NBAC Ontario Shield FeatureCollection size with undetermined fire cause: {nbac_shield_undetermined_size}\")"
   ]
  },
  {
   "cell_type": "markdown",
   "id": "e98f1c58",
   "metadata": {},
   "source": [
    "Remove all fires greater than 50ha"
   ]
  },
  {
   "cell_type": "code",
   "execution_count": 9,
   "id": "e55eb5be",
   "metadata": {},
   "outputs": [
    {
     "data": {
      "text/html": [
       "\n",
       "            <style>\n",
       "                .geemap-dark {\n",
       "                    --jp-widgets-color: white;\n",
       "                    --jp-widgets-label-color: white;\n",
       "                    --jp-ui-font-color1: white;\n",
       "                    --jp-layout-color2: #454545;\n",
       "                    background-color: #383838;\n",
       "                }\n",
       "\n",
       "                .geemap-dark .jupyter-button {\n",
       "                    --jp-layout-color3: #383838;\n",
       "                }\n",
       "\n",
       "                .geemap-colab {\n",
       "                    background-color: var(--colab-primary-surface-color, white);\n",
       "                }\n",
       "\n",
       "                .geemap-colab .jupyter-button {\n",
       "                    --jp-layout-color3: var(--colab-primary-surface-color, white);\n",
       "                }\n",
       "            </style>\n",
       "            "
      ],
      "text/plain": [
       "<IPython.core.display.HTML object>"
      ]
     },
     "metadata": {},
     "output_type": "display_data"
    },
    {
     "name": "stdout",
     "output_type": "stream",
     "text": [
      "NBAC Ontario Shield FeatureCollection size with natural fire cause and greater than 50 hectares: 1322\n"
     ]
    }
   ],
   "source": [
    "nbac_shield_nat_gt50 = nbac_shield_natural.filter(ee.Filter.gte(\"POLY_HA\", 50))\n",
    "nbac_shield_nat_gt50_size = nbac_shield_nat_gt50.size().getInfo()\n",
    "print(f\"NBAC Ontario Shield FeatureCollection size with natural fire cause and greater than 50 hectares: {nbac_shield_nat_gt50_size}\")"
   ]
  },
  {
   "cell_type": "markdown",
   "id": "86ecc6ea",
   "metadata": {},
   "source": [
    "GET AGENCY START DATE AS YMD"
   ]
  },
  {
   "cell_type": "code",
   "execution_count": 10,
   "id": "42241704",
   "metadata": {},
   "outputs": [
    {
     "data": {
      "text/html": [
       "\n",
       "            <style>\n",
       "                .geemap-dark {\n",
       "                    --jp-widgets-color: white;\n",
       "                    --jp-widgets-label-color: white;\n",
       "                    --jp-ui-font-color1: white;\n",
       "                    --jp-layout-color2: #454545;\n",
       "                    background-color: #383838;\n",
       "                }\n",
       "\n",
       "                .geemap-dark .jupyter-button {\n",
       "                    --jp-layout-color3: #383838;\n",
       "                }\n",
       "\n",
       "                .geemap-colab {\n",
       "                    background-color: var(--colab-primary-surface-color, white);\n",
       "                }\n",
       "\n",
       "                .geemap-colab .jupyter-button {\n",
       "                    --jp-layout-color3: var(--colab-primary-surface-color, white);\n",
       "                }\n",
       "            </style>\n",
       "            "
      ],
      "text/plain": [
       "<IPython.core.display.HTML object>"
      ]
     },
     "metadata": {},
     "output_type": "display_data"
    },
    {
     "name": "stdout",
     "output_type": "stream",
     "text": [
      "ADJ_FLAG: true\n",
      "ADJ_HA: 66.6419217477\n",
      "ADMIN_AREA: ON\n",
      "AG_EDATE: 1534575600000\n",
      "AG_SDATE: 1531897200000\n",
      "AG_SDATE_YMD: 2018-07-18\n",
      "BASRC: Agency\n",
      "FIRECAUS: Natural\n",
      "FIREMAPM: Undefined\n",
      "FIREMAPS: Undefined\n",
      "FIRE_MONTH: 7\n",
      "GID: 2018_1084\n",
      "HS_EDATE: 1532156400000\n",
      "HS_SDATE: 1532156400000\n",
      "NATPARK: \n",
      "NFIREID: 1084\n",
      "POLY_HA: 72.4925677237\n",
      "PRESCRIBED: \n",
      "VERSION: 20240530\n",
      "YEAR: 2018\n"
     ]
    }
   ],
   "source": [
    "# get AG_SDATE as date object YMD\n",
    "def convert_to_date(feature):\n",
    "    ag_sdate = feature.get('AG_SDATE')\n",
    "    # Convert to ee.Date and format as YYYY-MM-DD\n",
    "    date_object = ee.Date(ag_sdate)\n",
    "    formatted_date = date_object.format('YYYY-MM-dd')\n",
    "    month = date_object.get('month')\n",
    "    \n",
    "    # Set both the original date and formatted date as properties\n",
    "    return feature.set({\n",
    "        'AG_SDATE_YMD': formatted_date,\n",
    "        'FIRE_MONTH': month \n",
    "    })\n",
    "nbac_shield_nat_gt50 = nbac_shield_nat_gt50.map(convert_to_date)\n",
    "\n",
    "for property_name, property_value in nbac_shield_nat_gt50.first().getInfo()['properties'].items():\n",
    "    print(f\"{property_name}: {property_value}\")"
   ]
  },
  {
   "cell_type": "code",
   "execution_count": 10,
   "id": "6ad13952",
   "metadata": {},
   "outputs": [
    {
     "data": {
      "text/html": [
       "\n",
       "            <style>\n",
       "                .geemap-dark {\n",
       "                    --jp-widgets-color: white;\n",
       "                    --jp-widgets-label-color: white;\n",
       "                    --jp-ui-font-color1: white;\n",
       "                    --jp-layout-color2: #454545;\n",
       "                    background-color: #383838;\n",
       "                }\n",
       "\n",
       "                .geemap-dark .jupyter-button {\n",
       "                    --jp-layout-color3: #383838;\n",
       "                }\n",
       "\n",
       "                .geemap-colab {\n",
       "                    background-color: var(--colab-primary-surface-color, white);\n",
       "                }\n",
       "\n",
       "                .geemap-colab .jupyter-button {\n",
       "                    --jp-layout-color3: var(--colab-primary-surface-color, white);\n",
       "                }\n",
       "            </style>\n",
       "            "
      ],
      "text/plain": [
       "<IPython.core.display.HTML object>"
      ]
     },
     "metadata": {},
     "output_type": "display_data"
    }
   ],
   "source": [
    "# First filter to keep only fires with non-null AG_SDATE values\n",
    "nbac_shield_nat_gt50_notnull = nbac_shield_nat_gt50.filter(\n",
    "    ee.Filter.neq('AG_SDATE', None)\n",
    ")"
   ]
  },
  {
   "cell_type": "markdown",
   "id": "b45b4d16",
   "metadata": {},
   "source": [
    "# Mask all pixels within fire that are not forested "
   ]
  },
  {
   "cell_type": "code",
   "execution_count": 11,
   "id": "f04ee10c",
   "metadata": {},
   "outputs": [
    {
     "data": {
      "text/html": [
       "\n",
       "            <style>\n",
       "                .geemap-dark {\n",
       "                    --jp-widgets-color: white;\n",
       "                    --jp-widgets-label-color: white;\n",
       "                    --jp-ui-font-color1: white;\n",
       "                    --jp-layout-color2: #454545;\n",
       "                    background-color: #383838;\n",
       "                }\n",
       "\n",
       "                .geemap-dark .jupyter-button {\n",
       "                    --jp-layout-color3: #383838;\n",
       "                }\n",
       "\n",
       "                .geemap-colab {\n",
       "                    background-color: var(--colab-primary-surface-color, white);\n",
       "                }\n",
       "\n",
       "                .geemap-colab .jupyter-button {\n",
       "                    --jp-layout-color3: var(--colab-primary-surface-color, white);\n",
       "                }\n",
       "            </style>\n",
       "            "
      ],
      "text/plain": [
       "<IPython.core.display.HTML object>"
      ]
     },
     "metadata": {},
     "output_type": "display_data"
    }
   ],
   "source": [
    "tree_species = ee.ImageCollection(\"projects/sat-io/open-datasets/CA_FOREST/SPECIES-1984-2022\")"
   ]
  },
  {
   "cell_type": "code",
   "execution_count": 33,
   "id": "de6b9a7f",
   "metadata": {},
   "outputs": [
    {
     "data": {
      "text/html": [
       "\n",
       "            <style>\n",
       "                .geemap-dark {\n",
       "                    --jp-widgets-color: white;\n",
       "                    --jp-widgets-label-color: white;\n",
       "                    --jp-ui-font-color1: white;\n",
       "                    --jp-layout-color2: #454545;\n",
       "                    background-color: #383838;\n",
       "                }\n",
       "\n",
       "                .geemap-dark .jupyter-button {\n",
       "                    --jp-layout-color3: #383838;\n",
       "                }\n",
       "\n",
       "                .geemap-colab {\n",
       "                    background-color: var(--colab-primary-surface-color, white);\n",
       "                }\n",
       "\n",
       "                .geemap-colab .jupyter-button {\n",
       "                    --jp-layout-color3: var(--colab-primary-surface-color, white);\n",
       "                }\n",
       "            </style>\n",
       "            "
      ],
      "text/plain": [
       "<IPython.core.display.HTML object>"
      ]
     },
     "metadata": {},
     "output_type": "display_data"
    }
   ],
   "source": [
    "def mask_non_forested_areas(nbac_features, tree_species_collection):\n",
    "    \"\"\"\n",
    "    Mask non-forested areas within fire perimeters using tree species data.\n",
    "    \n",
    "    Args:\n",
    "        nbac_features: Earth Engine FeatureCollection of fire perimeters\n",
    "        tree_species_collection: Earth Engine ImageCollection with tree species data\n",
    "        \n",
    "    Returns:\n",
    "        Earth Engine FeatureCollection with additional properties for forested area\n",
    "    \"\"\"\n",
    "    # Function to process each fire feature\n",
    "    def process_fire(feature):\n",
    "        # Get the year of the fire\n",
    "        fire_year = ee.Number(feature.get('YEAR'))\n",
    "        \n",
    "        # year_before_fire \n",
    "        year_before_fire = fire_year.subtract(1)\n",
    "\n",
    "        # Get all available image years from the tree species collection\n",
    "        years = tree_species_collection.aggregate_array('system:index')\n",
    "        \n",
    "        # Get years by extracting last 4 characters of system:index and parsing to number\n",
    "        def extract_year(index_str):\n",
    "            index_str = ee.String(index_str)\n",
    "            # Get the last 4 characters which should be the year\n",
    "            year_str = index_str.slice(-4)\n",
    "            # Try to parse as a number\n",
    "            year_num = ee.Number.parse(year_str).float()\n",
    "            \n",
    "            # Calculate distance to year before fire\n",
    "            distance = year_num.subtract(year_before_fire).abs()\n",
    "            return ee.Feature(None, {\n",
    "                'index': index_str, \n",
    "                'year': year_num,\n",
    "                'distance': distance\n",
    "            })\n",
    "        \n",
    "        # Map the year extraction over all indices\n",
    "        year_features = ee.FeatureCollection(\n",
    "            years.map(extract_year)\n",
    "        )\n",
    "        \n",
    "        # Find the closest year\n",
    "        closest_year_feature = year_features.sort('distance').first()\n",
    "        \n",
    "        # Get the index of the closest year\n",
    "        closest_index = ee.String(closest_year_feature.get('index'))\n",
    "        \n",
    "        # Get the tree species image for the closest year\n",
    "        tree_species_img = ee.Image(tree_species_collection.filter(\n",
    "            ee.Filter.eq('system:index', closest_index)\n",
    "        ).first())\n",
    "        \n",
    "        # Create a binary mask where tree species > 0 (forested areas)\n",
    "        forest_mask = tree_species_img.gt(0)\n",
    "        \n",
    "        # Clip to the fire perimeter\n",
    "        fire_geom = feature.geometry()\n",
    "        clipped_mask = forest_mask.clip(fire_geom)\n",
    "        \n",
    "        # Calculate forested area (in hectares)\n",
    "        pixel_area = ee.Image.pixelArea().divide(10000)  # Convert to hectares\n",
    "        forested_area = clipped_mask.multiply(pixel_area).reduceRegion(\n",
    "            reducer=ee.Reducer.sum(),\n",
    "            geometry=fire_geom,\n",
    "            scale=30,  # Assuming 30m resolution\n",
    "            maxPixels=1e9\n",
    "        ).get('b1')\n",
    "        \n",
    "        # Default to 0 if forested_area is null (using dummy operation to check for null)\n",
    "        forested_area = ee.Number(ee.Algorithms.If(\n",
    "            forested_area,  # This will be falsy if null\n",
    "            forested_area,\n",
    "            0\n",
    "        ))\n",
    "        \n",
    "        # Calculate the percentage of forested area\n",
    "        total_area = ee.Number(feature.get('POLY_HA'))\n",
    "        forested_percent = forested_area.divide(total_area).multiply(100)\n",
    "        \n",
    "        # Add properties to the feature\n",
    "        return feature.set({\n",
    "            'forested_area_ha': forested_area,\n",
    "            'forested_percent': forested_percent,\n",
    "            'tree_species_year': closest_year_feature.get('year'),\n",
    "            'tree_species_index': closest_index\n",
    "        })\n",
    "    \n",
    "    # Map the function over the FeatureCollection\n",
    "    return nbac_features.map(process_fire)"
   ]
  },
  {
   "cell_type": "code",
   "execution_count": 34,
   "id": "c97834fd",
   "metadata": {},
   "outputs": [
    {
     "data": {
      "text/html": [
       "\n",
       "            <style>\n",
       "                .geemap-dark {\n",
       "                    --jp-widgets-color: white;\n",
       "                    --jp-widgets-label-color: white;\n",
       "                    --jp-ui-font-color1: white;\n",
       "                    --jp-layout-color2: #454545;\n",
       "                    background-color: #383838;\n",
       "                }\n",
       "\n",
       "                .geemap-dark .jupyter-button {\n",
       "                    --jp-layout-color3: #383838;\n",
       "                }\n",
       "\n",
       "                .geemap-colab {\n",
       "                    background-color: var(--colab-primary-surface-color, white);\n",
       "                }\n",
       "\n",
       "                .geemap-colab .jupyter-button {\n",
       "                    --jp-layout-color3: var(--colab-primary-surface-color, white);\n",
       "                }\n",
       "            </style>\n",
       "            "
      ],
      "text/plain": [
       "<IPython.core.display.HTML object>"
      ]
     },
     "metadata": {},
     "output_type": "display_data"
    },
    {
     "name": "stdout",
     "output_type": "stream",
     "text": [
      "Properties of the first masked feature:\n",
      "ADJ_FLAG: true\n",
      "ADJ_HA: 66.6419217477\n",
      "ADMIN_AREA: ON\n",
      "AG_EDATE: 1534575600000\n",
      "AG_SDATE: 1531897200000\n",
      "BASRC: Agency\n",
      "FIRECAUS: Natural\n",
      "FIREMAPM: Undefined\n",
      "FIREMAPS: Undefined\n",
      "GID: 2018_1084\n",
      "HS_EDATE: 1532156400000\n",
      "HS_SDATE: 1532156400000\n",
      "NATPARK: \n",
      "NFIREID: 1084\n",
      "POLY_HA: 72.4925677237\n",
      "PRESCRIBED: \n",
      "VERSION: 20240530\n",
      "YEAR: 2018\n",
      "forested_area_ha: 63.41448836813536\n",
      "forested_percent: 87.4772274722492\n",
      "tree_species_index: Canada_Tree_Species_Classification_HMM_2017\n",
      "tree_species_year: 2017\n",
      "Fires before filtering for forest cover: 1320\n",
      "Fires with >50% forested area: 1263\n",
      "Removed 57 fires with insufficient forest cover\n"
     ]
    }
   ],
   "source": [
    "# Apply the mask to remove non-forested areas from fires\n",
    "nbac_shield_nat_gt50_forested = mask_non_forested_areas(nbac_shield_nat_gt50_notnull, tree_species)\n",
    "\n",
    "# Let's examine the result\n",
    "first_masked_feature = nbac_shield_nat_gt50_forested.first()\n",
    "print(\"Properties of the first masked feature:\")\n",
    "for property_name, property_value in first_masked_feature.getInfo()['properties'].items():\n",
    "    print(f\"{property_name}: {property_value}\")\n",
    "\n",
    "# Filter out fires with low forest cover (e.g., less than 50% forested)\n",
    "nbac_shield_nat_gt50_mostly_forested = nbac_shield_nat_gt50_forested.filter(\n",
    "    ee.Filter.gt('forested_percent', 50)\n",
    ")\n",
    "\n",
    "# Get the count of fires before and after filtering\n",
    "before_count = nbac_shield_nat_gt50_forested.size().getInfo()\n",
    "after_count = nbac_shield_nat_gt50_mostly_forested.size().getInfo()\n",
    "\n",
    "print(f\"Fires before filtering for forest cover: {before_count}\")\n",
    "print(f\"Fires with >50% forested area: {after_count}\")\n",
    "print(f\"Removed {before_count - after_count} fires with insufficient forest cover\")"
   ]
  },
  {
   "cell_type": "markdown",
   "id": "635b6eb7",
   "metadata": {},
   "source": [
    "filter fires 1990 -2021"
   ]
  },
  {
   "cell_type": "code",
   "execution_count": 36,
   "id": "92ee7129",
   "metadata": {},
   "outputs": [
    {
     "data": {
      "text/html": [
       "\n",
       "            <style>\n",
       "                .geemap-dark {\n",
       "                    --jp-widgets-color: white;\n",
       "                    --jp-widgets-label-color: white;\n",
       "                    --jp-ui-font-color1: white;\n",
       "                    --jp-layout-color2: #454545;\n",
       "                    background-color: #383838;\n",
       "                }\n",
       "\n",
       "                .geemap-dark .jupyter-button {\n",
       "                    --jp-layout-color3: #383838;\n",
       "                }\n",
       "\n",
       "                .geemap-colab {\n",
       "                    background-color: var(--colab-primary-surface-color, white);\n",
       "                }\n",
       "\n",
       "                .geemap-colab .jupyter-button {\n",
       "                    --jp-layout-color3: var(--colab-primary-surface-color, white);\n",
       "                }\n",
       "            </style>\n",
       "            "
      ],
      "text/plain": [
       "<IPython.core.display.HTML object>"
      ]
     },
     "metadata": {},
     "output_type": "display_data"
    },
    {
     "name": "stdout",
     "output_type": "stream",
     "text": [
      "Fires with >50% forested area and year >= 1990: 1078\n"
     ]
    }
   ],
   "source": [
    "# filter out years before 1990\n",
    "nbac_shield_nat_gt50_mostly_forested_1990 = nbac_shield_nat_gt50_mostly_forested.filter(\n",
    "    ee.Filter.gte('YEAR', 1990)\n",
    ")\n",
    "# Get the count of fires after filtering for years >= 1990\n",
    "after_count_1990 = nbac_shield_nat_gt50_mostly_forested_1990.size().getInfo()\n",
    "print(f\"Fires with >50% forested area and year >= 1990: {after_count_1990}\")"
   ]
  },
  {
   "cell_type": "markdown",
   "id": "d3b88729",
   "metadata": {},
   "source": [
    "split into 1990-2000, 2001-2010, 2011-2021"
   ]
  },
  {
   "cell_type": "code",
   "execution_count": 39,
   "id": "b9785fba",
   "metadata": {},
   "outputs": [
    {
     "data": {
      "text/html": [
       "\n",
       "            <style>\n",
       "                .geemap-dark {\n",
       "                    --jp-widgets-color: white;\n",
       "                    --jp-widgets-label-color: white;\n",
       "                    --jp-ui-font-color1: white;\n",
       "                    --jp-layout-color2: #454545;\n",
       "                    background-color: #383838;\n",
       "                }\n",
       "\n",
       "                .geemap-dark .jupyter-button {\n",
       "                    --jp-layout-color3: #383838;\n",
       "                }\n",
       "\n",
       "                .geemap-colab {\n",
       "                    background-color: var(--colab-primary-surface-color, white);\n",
       "                }\n",
       "\n",
       "                .geemap-colab .jupyter-button {\n",
       "                    --jp-layout-color3: var(--colab-primary-surface-color, white);\n",
       "                }\n",
       "            </style>\n",
       "            "
      ],
      "text/plain": [
       "<IPython.core.display.HTML object>"
      ]
     },
     "metadata": {},
     "output_type": "display_data"
    },
    {
     "name": "stdout",
     "output_type": "stream",
     "text": [
      "Fires with >50% forested area between 1990 and 2000: 379\n",
      "Fires with >50% forested area between 2001 and 2010: 235\n",
      "Fires with >50% forested area between 2011 and 2021: 411\n"
     ]
    }
   ],
   "source": [
    "# 1990-2000\n",
    "nbac_shield_nat_gt50_mostly_forested_1990_2000 = nbac_shield_nat_gt50_mostly_forested_1990.filter(\n",
    "    ee.Filter.rangeContains('YEAR', 1990, 2000)\n",
    ")\n",
    "# Get the count of fires in the 1990-2000 range\n",
    "after_count_1990_2000 = nbac_shield_nat_gt50_mostly_forested_1990_2000.size().getInfo()\n",
    "print(f\"Fires with >50% forested area between 1990 and 2000: {after_count_1990_2000}\")\n",
    "# 2001-2010\n",
    "nbac_shield_nat_gt50_mostly_forested_2001_2010 = nbac_shield_nat_gt50_mostly_forested_1990.filter(\n",
    "    ee.Filter.rangeContains('YEAR', 2001, 2010)\n",
    ")\n",
    "# Get the count of fires in the 2001-2010 range\n",
    "after_count_2001_2010 = nbac_shield_nat_gt50_mostly_forested_2001_2010.size().getInfo()\n",
    "print(f\"Fires with >50% forested area between 2001 and 2010: {after_count_2001_2010}\")\n",
    "# 2011-2021     \n",
    "nbac_shield_nat_gt50_mostly_forested_2011_2021 = nbac_shield_nat_gt50_mostly_forested_1990.filter(\n",
    "    ee.Filter.rangeContains('YEAR', 2011, 2021)\n",
    ")\n",
    "# Get the count of fires in the 2011-2021 range\n",
    "after_count_2011_2021 = nbac_shield_nat_gt50_mostly_forested_2011_2021.size().getInfo()\n",
    "print(f\"Fires with >50% forested area between 2011 and 2021: {after_count_2011_2021}\")"
   ]
  },
  {
   "cell_type": "markdown",
   "id": "76fb859e",
   "metadata": {},
   "source": [
    "Export to geodataframe"
   ]
  },
  {
   "cell_type": "code",
   "execution_count": null,
   "id": "7d4a6a10",
   "metadata": {},
   "outputs": [],
   "source": [
    "def ee_fc_to_gdf(fc):\n",
    "    \"\"\"\n",
    "    Convert an Earth Engine FeatureCollection to a GeoPandas DataFrame\n",
    "    \n",
    "    Args:\n",
    "        fc: Earth Engine FeatureCollection\n",
    "    \n",
    "    Returns:\n",
    "        GeoPandas DataFrame\n",
    "    \"\"\"\n",
    "    # Get the feature collection as a list of features\n",
    "    features = fc.getInfo()['features']\n",
    "    \n",
    "    # Create a list to store properties\n",
    "    properties = []\n",
    "    \n",
    "    # Extract properties and prepare geometries from each feature\n",
    "    for feature in features:\n",
    "        props = feature['properties'].copy()\n",
    "        \n",
    "        # Add geometry to properties (will be converted by gpd.read_file)\n",
    "        props['geometry'] = feature['geometry']\n",
    "        \n",
    "        # Convert ee.Date objects to strings if they exist\n",
    "        for key, value in props.items():\n",
    "            if isinstance(value, dict) and 'type' in value and value['type'] == 'Date':\n",
    "                props[key] = ee.Date(value).format('YYYY-MM-dd').getInfo()\n",
    "        \n",
    "        properties.append(props)\n",
    "    \n",
    "    # Create a GeoDataFrame from the list of features\n",
    "    import json\n",
    "    features_json = {\"type\": \"FeatureCollection\", \"features\": [\n",
    "        {\"type\": \"Feature\", \"properties\": {k: v for k, v in props.items() if k != 'geometry'}, \n",
    "         \"geometry\": props['geometry']} \n",
    "        for props in properties\n",
    "    ]}\n",
    "    \n",
    "    # Write to a temporary file and read with GeoPandas\n",
    "    with open('temp_features.geojson', 'w') as f:\n",
    "        json.dump(features_json, f)\n",
    "    \n",
    "    gdf = gpd.read_file('temp_features.geojson')\n",
    "    \n",
    "    # Set CRS to EPSG:4326 (WGS84) - Earth Engine's default\n",
    "    gdf.crs = \"EPSG:4326\"\n",
    "    \n",
    "    return gdf"
   ]
  },
  {
   "cell_type": "code",
   "execution_count": 35,
   "id": "c3296084",
   "metadata": {},
   "outputs": [
    {
     "data": {
      "text/html": [
       "\n",
       "            <style>\n",
       "                .geemap-dark {\n",
       "                    --jp-widgets-color: white;\n",
       "                    --jp-widgets-label-color: white;\n",
       "                    --jp-ui-font-color1: white;\n",
       "                    --jp-layout-color2: #454545;\n",
       "                    background-color: #383838;\n",
       "                }\n",
       "\n",
       "                .geemap-dark .jupyter-button {\n",
       "                    --jp-layout-color3: #383838;\n",
       "                }\n",
       "\n",
       "                .geemap-colab {\n",
       "                    background-color: var(--colab-primary-surface-color, white);\n",
       "                }\n",
       "\n",
       "                .geemap-colab .jupyter-button {\n",
       "                    --jp-layout-color3: var(--colab-primary-surface-color, white);\n",
       "                }\n",
       "            </style>\n",
       "            "
      ],
      "text/plain": [
       "<IPython.core.display.HTML object>"
      ]
     },
     "metadata": {},
     "output_type": "display_data"
    },
    {
     "name": "stdout",
     "output_type": "stream",
     "text": [
      "Natural fires > 50ha: 1320\n"
     ]
    }
   ],
   "source": [
    "# Filter for fires > 50ha\n",
    "nbac_shield_nat_gt50_gdf = ee_fc_to_gdf(nbac_shield_nat_gt50_notnull)\n",
    "print(f\"Natural fires > 50ha: {len(nbac_shield_nat_gt50_gdf)}\")"
   ]
  },
  {
   "cell_type": "code",
   "execution_count": 37,
   "id": "d86680d5",
   "metadata": {},
   "outputs": [
    {
     "data": {
      "text/html": [
       "\n",
       "            <style>\n",
       "                .geemap-dark {\n",
       "                    --jp-widgets-color: white;\n",
       "                    --jp-widgets-label-color: white;\n",
       "                    --jp-ui-font-color1: white;\n",
       "                    --jp-layout-color2: #454545;\n",
       "                    background-color: #383838;\n",
       "                }\n",
       "\n",
       "                .geemap-dark .jupyter-button {\n",
       "                    --jp-layout-color3: #383838;\n",
       "                }\n",
       "\n",
       "                .geemap-colab {\n",
       "                    background-color: var(--colab-primary-surface-color, white);\n",
       "                }\n",
       "\n",
       "                .geemap-colab .jupyter-button {\n",
       "                    --jp-layout-color3: var(--colab-primary-surface-color, white);\n",
       "                }\n",
       "            </style>\n",
       "            "
      ],
      "text/plain": [
       "<IPython.core.display.HTML object>"
      ]
     },
     "metadata": {},
     "output_type": "display_data"
    }
   ],
   "source": [
    "# Save as GeoJSON which supports mixed geometry types\n",
    "nbac_shield_nat_gt50_gdf.to_file(\"../data/nbac_shield_natural_gt50.geojson\", driver=\"GeoJSON\")"
   ]
  },
  {
   "cell_type": "code",
   "execution_count": 41,
   "id": "1e4e40d2",
   "metadata": {},
   "outputs": [
    {
     "data": {
      "text/html": [
       "\n",
       "            <style>\n",
       "                .geemap-dark {\n",
       "                    --jp-widgets-color: white;\n",
       "                    --jp-widgets-label-color: white;\n",
       "                    --jp-ui-font-color1: white;\n",
       "                    --jp-layout-color2: #454545;\n",
       "                    background-color: #383838;\n",
       "                }\n",
       "\n",
       "                .geemap-dark .jupyter-button {\n",
       "                    --jp-layout-color3: #383838;\n",
       "                }\n",
       "\n",
       "                .geemap-colab {\n",
       "                    background-color: var(--colab-primary-surface-color, white);\n",
       "                }\n",
       "\n",
       "                .geemap-colab .jupyter-button {\n",
       "                    --jp-layout-color3: var(--colab-primary-surface-color, white);\n",
       "                }\n",
       "            </style>\n",
       "            "
      ],
      "text/plain": [
       "<IPython.core.display.HTML object>"
      ]
     },
     "metadata": {},
     "output_type": "display_data"
    }
   ],
   "source": [
    "# convert the FeatureCollection to a GeoDataFrame 1990-2000\n",
    "nbac_shield_nat_gt50_mostly_forested_gdf_1990_2000 = ee_fc_to_gdf(nbac_shield_nat_gt50_mostly_forested_1990_2000)\n",
    "# convert the FeatureCollection to a GeoDataFrame 2001-2010\n",
    "nbac_shield_nat_gt50_mostly_forested_gdf_2001_2010 = ee_fc_to_gdf(nbac_shield_nat_gt50_mostly_forested_2001_2010)\n",
    "# convert the FeatureCollection to a GeoDataFrame : 2011-2021\n",
    "nbac_shield_nat_gt50_mostly_forested_gdf_2011_2021 = ee_fc_to_gdf(nbac_shield_nat_gt50_mostly_forested_2011_2021)\n"
   ]
  },
  {
   "cell_type": "code",
   "execution_count": 42,
   "id": "a0028b2a",
   "metadata": {},
   "outputs": [
    {
     "data": {
      "text/html": [
       "\n",
       "            <style>\n",
       "                .geemap-dark {\n",
       "                    --jp-widgets-color: white;\n",
       "                    --jp-widgets-label-color: white;\n",
       "                    --jp-ui-font-color1: white;\n",
       "                    --jp-layout-color2: #454545;\n",
       "                    background-color: #383838;\n",
       "                }\n",
       "\n",
       "                .geemap-dark .jupyter-button {\n",
       "                    --jp-layout-color3: #383838;\n",
       "                }\n",
       "\n",
       "                .geemap-colab {\n",
       "                    background-color: var(--colab-primary-surface-color, white);\n",
       "                }\n",
       "\n",
       "                .geemap-colab .jupyter-button {\n",
       "                    --jp-layout-color3: var(--colab-primary-surface-color, white);\n",
       "                }\n",
       "            </style>\n",
       "            "
      ],
      "text/plain": [
       "<IPython.core.display.HTML object>"
      ]
     },
     "metadata": {},
     "output_type": "display_data"
    }
   ],
   "source": [
    "#save as GeoJSON which supports mixed geometry types\n",
    "nbac_shield_nat_gt50_mostly_forested_gdf_1990_2000.to_file(\"../data/nbac_shield_natural_gt50_mostly_forested_1990_2000.geojson\", driver=\"GeoJSON\")\n",
    "nbac_shield_nat_gt50_mostly_forested_gdf_2001_2010.to_file(\"../data/nbac_shield_natural_gt50_mostly_forested_2001_2010.geojson\", driver=\"GeoJSON\")\n",
    "nbac_shield_nat_gt50_mostly_forested_gdf_2011_2021.to_file(\"../data/nbac_shield_natural_gt50_mostly_forested_2011_2021.geojson\", driver=\"GeoJSON\")"
   ]
  },
  {
   "cell_type": "markdown",
   "id": "2d68151f",
   "metadata": {},
   "source": [
    "Visualize the number of fires per year in bar chart"
   ]
  },
  {
   "cell_type": "code",
   "execution_count": 38,
   "id": "818d29c4",
   "metadata": {},
   "outputs": [
    {
     "data": {
      "text/html": [
       "\n",
       "            <style>\n",
       "                .geemap-dark {\n",
       "                    --jp-widgets-color: white;\n",
       "                    --jp-widgets-label-color: white;\n",
       "                    --jp-ui-font-color1: white;\n",
       "                    --jp-layout-color2: #454545;\n",
       "                    background-color: #383838;\n",
       "                }\n",
       "\n",
       "                .geemap-dark .jupyter-button {\n",
       "                    --jp-layout-color3: #383838;\n",
       "                }\n",
       "\n",
       "                .geemap-colab {\n",
       "                    background-color: var(--colab-primary-surface-color, white);\n",
       "                }\n",
       "\n",
       "                .geemap-colab .jupyter-button {\n",
       "                    --jp-layout-color3: var(--colab-primary-surface-color, white);\n",
       "                }\n",
       "            </style>\n",
       "            "
      ],
      "text/plain": [
       "<IPython.core.display.HTML object>"
      ]
     },
     "metadata": {},
     "output_type": "display_data"
    },
    {
     "data": {
      "text/plain": [
       "Index(['ADJ_FLAG', 'ADJ_HA', 'ADMIN_AREA', 'AG_EDATE', 'AG_SDATE',\n",
       "       'AG_SDATE_YMD', 'BASRC', 'CAPDATE', 'FIRECAUS', 'FIREMAPM', 'FIREMAPS',\n",
       "       'FIRE_MONTH', 'GID', 'HS_EDATE', 'HS_SDATE', 'NATPARK', 'NFIREID',\n",
       "       'POLY_HA', 'PRESCRIBED', 'VERSION', 'YEAR', 'geometry'],\n",
       "      dtype='object')"
      ]
     },
     "execution_count": 38,
     "metadata": {},
     "output_type": "execute_result"
    }
   ],
   "source": [
    "nbac_shield_nat_gt50_gdf.columns"
   ]
  },
  {
   "cell_type": "code",
   "execution_count": 39,
   "id": "14c0a17c",
   "metadata": {},
   "outputs": [
    {
     "data": {
      "text/html": [
       "\n",
       "            <style>\n",
       "                .geemap-dark {\n",
       "                    --jp-widgets-color: white;\n",
       "                    --jp-widgets-label-color: white;\n",
       "                    --jp-ui-font-color1: white;\n",
       "                    --jp-layout-color2: #454545;\n",
       "                    background-color: #383838;\n",
       "                }\n",
       "\n",
       "                .geemap-dark .jupyter-button {\n",
       "                    --jp-layout-color3: #383838;\n",
       "                }\n",
       "\n",
       "                .geemap-colab {\n",
       "                    background-color: var(--colab-primary-surface-color, white);\n",
       "                }\n",
       "\n",
       "                .geemap-colab .jupyter-button {\n",
       "                    --jp-layout-color3: var(--colab-primary-surface-color, white);\n",
       "                }\n",
       "            </style>\n",
       "            "
      ],
      "text/plain": [
       "<IPython.core.display.HTML object>"
      ]
     },
     "metadata": {},
     "output_type": "display_data"
    },
    {
     "data": {
      "image/png": "[encoded data removed]",
      "text/plain": [
       "<Figure size 1400x800 with 1 Axes>"
      ]
     },
     "metadata": {},
     "output_type": "display_data"
    },
    {
     "name": "stdout",
     "output_type": "stream",
     "text": [
      "Total number of fires: 1320\n",
      "Year with most fires: 1989 (106 fires)\n",
      "Year with fewest fires: 2007 (3 fires)\n",
      "Average fires per year: 36.7\n"
     ]
    }
   ],
   "source": [
    "import matplotlib.pyplot as plt\n",
    "import seaborn as sns\n",
    "\n",
    "# Set the style for the plots\n",
    "sns.set_style(\"whitegrid\")\n",
    "plt.figure(figsize=(14, 8))\n",
    "\n",
    "# Count fires by year\n",
    "fires_per_year = nbac_shield_nat_gt50_gdf['YEAR'].value_counts().sort_index()\n",
    "\n",
    "# Create the bar chart\n",
    "ax = fires_per_year.plot(kind='bar', color='firebrick')\n",
    "\n",
    "# Add labels and title\n",
    "plt.xlabel('Year', fontsize=14)\n",
    "plt.ylabel('Number of Fires (>50ha)', fontsize=14)\n",
    "plt.title('Natural Fires >50ha in Ontario Shield by Year (1985-present)', fontsize=16)\n",
    "\n",
    "# Add data labels on top of each bar\n",
    "for i, v in enumerate(fires_per_year):\n",
    "    ax.text(i, v + 1, str(v), ha='center', fontsize=10)\n",
    "\n",
    "# Improve x-axis labels\n",
    "plt.xticks(rotation=45)\n",
    "\n",
    "# Add grid lines for better readability\n",
    "plt.grid(axis='y', linestyle='--', alpha=0.7)\n",
    "\n",
    "# Tight layout to ensure everything fits\n",
    "plt.tight_layout()\n",
    "\n",
    "# Show the plot\n",
    "plt.show()\n",
    "\n",
    "# Print summary statistics\n",
    "print(f\"Total number of fires: {len(nbac_shield_nat_gt50_gdf)}\")\n",
    "print(f\"Year with most fires: {fires_per_year.idxmax()} ({fires_per_year.max()} fires)\")\n",
    "print(f\"Year with fewest fires: {fires_per_year.idxmin()} ({fires_per_year.min()} fires)\")\n",
    "print(f\"Average fires per year: {fires_per_year.mean():.1f}\")"
   ]
  },
  {
   "cell_type": "markdown",
   "id": "56cb7d2b",
   "metadata": {},
   "source": [
    "How many fires from 2000-2021 and 2011-2021"
   ]
  },
  {
   "cell_type": "code",
   "execution_count": 41,
   "id": "3190a3eb",
   "metadata": {},
   "outputs": [
    {
     "data": {
      "text/html": [
       "\n",
       "            <style>\n",
       "                .geemap-dark {\n",
       "                    --jp-widgets-color: white;\n",
       "                    --jp-widgets-label-color: white;\n",
       "                    --jp-ui-font-color1: white;\n",
       "                    --jp-layout-color2: #454545;\n",
       "                    background-color: #383838;\n",
       "                }\n",
       "\n",
       "                .geemap-dark .jupyter-button {\n",
       "                    --jp-layout-color3: #383838;\n",
       "                }\n",
       "\n",
       "                .geemap-colab {\n",
       "                    background-color: var(--colab-primary-surface-color, white);\n",
       "                }\n",
       "\n",
       "                .geemap-colab .jupyter-button {\n",
       "                    --jp-layout-color3: var(--colab-primary-surface-color, white);\n",
       "                }\n",
       "            </style>\n",
       "            "
      ],
      "text/plain": [
       "<IPython.core.display.HTML object>"
      ]
     },
     "metadata": {},
     "output_type": "display_data"
    },
    {
     "data": {
      "text/plain": [
       "<Figure size 1600x1000 with 0 Axes>"
      ]
     },
     "metadata": {},
     "output_type": "display_data"
    },
    {
     "data": {
      "image/png": "[encoded data removed]",
      "text/plain": [
       "<Figure size 1400x1200 with 2 Axes>"
      ]
     },
     "metadata": {},
     "output_type": "display_data"
    },
    {
     "name": "stdout",
     "output_type": "stream",
     "text": [
      "2000-2021 Period:\n",
      "  Total number of fires: 683\n",
      "  Year with most fires: 2006 (80 fires)\n",
      "  Year with fewest fires: 2007 (3 fires)\n",
      "  Average fires per year: 32.5\n",
      "\n",
      "2011-2021 Period:\n",
      "  Total number of fires: 432\n",
      "  Year with most fires: 2021 (74 fires)\n",
      "  Year with fewest fires: 2014 (4 fires)\n",
      "  Average fires per year: 39.3\n",
      "\n",
      "Comparison:\n",
      "  Percentage of 2000-2021 fires occurring in 2011-2021: 63.3%\n"
     ]
    }
   ],
   "source": [
    "\n",
    "\n",
    "# Set the style for the plots\n",
    "sns.set_style(\"whitegrid\")\n",
    "plt.figure(figsize=(16, 10))\n",
    "\n",
    "# Create a figure with two subplots\n",
    "fig, (ax1, ax2) = plt.subplots(2, 1, figsize=(14, 12))\n",
    "\n",
    "# Filter data for each time period\n",
    "fires_2000_2021 = nbac_shield_nat_gt50_gdf[\n",
    "    (nbac_shield_nat_gt50_gdf['YEAR'] >= 2000) & \n",
    "    (nbac_shield_nat_gt50_gdf['YEAR'] <= 2021)\n",
    "]\n",
    "\n",
    "fires_2011_2021 = nbac_shield_nat_gt50_gdf[\n",
    "    (nbac_shield_nat_gt50_gdf['YEAR'] >= 2011) & \n",
    "    (nbac_shield_nat_gt50_gdf['YEAR'] <= 2021)\n",
    "]\n",
    "\n",
    "# Count fires by year for each period\n",
    "fires_per_year_2000_2021 = fires_2000_2021['YEAR'].value_counts().sort_index()\n",
    "fires_per_year_2011_2021 = fires_2011_2021['YEAR'].value_counts().sort_index()\n",
    "\n",
    "# Plot 2000-2021 data\n",
    "bars1 = ax1.bar(fires_per_year_2000_2021.index, fires_per_year_2000_2021.values, color='firebrick')\n",
    "ax1.set_xlabel('Year', fontsize=14)\n",
    "ax1.set_ylabel('Number of Fires (>50ha)', fontsize=14)\n",
    "ax1.set_title('Natural Fires >50ha in Ontario Shield (2000-2021)', fontsize=16)\n",
    "ax1.tick_params(axis='x', rotation=45)\n",
    "ax1.grid(axis='y', linestyle='--', alpha=0.7)\n",
    "\n",
    "# Add data labels on top of each bar for 2000-2021\n",
    "for bar in bars1:\n",
    "    height = bar.get_height()\n",
    "    ax1.text(bar.get_x() + bar.get_width()/2., height + 0.5,\n",
    "            f'{int(height)}', ha='center', va='bottom', fontsize=10)\n",
    "\n",
    "# Add average line for 2000-2021\n",
    "avg_2000_2021 = fires_per_year_2000_2021.mean()\n",
    "ax1.axhline(y=avg_2000_2021, color='black', linestyle='--', alpha=0.7, \n",
    "           label=f'Average: {avg_2000_2021:.1f} fires/year')\n",
    "\n",
    "# Add total fires text for 2000-2021\n",
    "total_fires_2000_2021 = len(fires_2000_2021)\n",
    "ax1.text(0.02, 0.95, f'Total fires: {total_fires_2000_2021}', \n",
    "        transform=ax1.transAxes, fontsize=12,\n",
    "        bbox=dict(facecolor='white', alpha=0.8, boxstyle='round,pad=0.5'))\n",
    "\n",
    "# Plot 2011-2021 data\n",
    "bars2 = ax2.bar(fires_per_year_2011_2021.index, fires_per_year_2011_2021.values, color='darkblue')\n",
    "ax2.set_xlabel('Year', fontsize=14)\n",
    "ax2.set_ylabel('Number of Fires (>50ha)', fontsize=14)\n",
    "ax2.set_title('Natural Fires >50ha in Ontario Shield (2011-2021)', fontsize=16)\n",
    "ax2.tick_params(axis='x', rotation=45)\n",
    "ax2.grid(axis='y', linestyle='--', alpha=0.7)\n",
    "\n",
    "# Add data labels on top of each bar for 2011-2021\n",
    "for bar in bars2:\n",
    "    height = bar.get_height()\n",
    "    ax2.text(bar.get_x() + bar.get_width()/2., height + 0.5,\n",
    "            f'{int(height)}', ha='center', va='bottom', fontsize=10)\n",
    "\n",
    "# Add average line for 2011-2021\n",
    "avg_2011_2021 = fires_per_year_2011_2021.mean()\n",
    "ax2.axhline(y=avg_2011_2021, color='black', linestyle='--', alpha=0.7,\n",
    "           label=f'Average: {avg_2011_2021:.1f} fires/year')\n",
    "\n",
    "# Add total fires text for 2011-2021\n",
    "total_fires_2011_2021 = len(fires_2011_2021)\n",
    "ax2.text(0.02, 0.95, f'Total fires: {total_fires_2011_2021}', \n",
    "        transform=ax2.transAxes, fontsize=12,\n",
    "        bbox=dict(facecolor='white', alpha=0.8, boxstyle='round,pad=0.5'))\n",
    "\n",
    "# Add legends\n",
    "ax1.legend()\n",
    "ax2.legend()\n",
    "\n",
    "# Ensure the y-axis limits are consistent for better comparison\n",
    "max_fires = max(fires_per_year_2000_2021.max(), fires_per_year_2011_2021.max())\n",
    "ax1.set_ylim(0, max_fires * 1.1)  # Add 10% padding\n",
    "ax2.set_ylim(0, max_fires * 1.1)\n",
    "\n",
    "# Adjust layout and show\n",
    "plt.tight_layout()\n",
    "plt.show()\n",
    "\n",
    "# Print summary statistics\n",
    "print(f\"2000-2021 Period:\")\n",
    "print(f\"  Total number of fires: {total_fires_2000_2021}\")\n",
    "print(f\"  Year with most fires: {fires_per_year_2000_2021.idxmax()} ({fires_per_year_2000_2021.max()} fires)\")\n",
    "print(f\"  Year with fewest fires: {fires_per_year_2000_2021.idxmin()} ({fires_per_year_2000_2021.min()} fires)\")\n",
    "print(f\"  Average fires per year: {avg_2000_2021:.1f}\")\n",
    "\n",
    "print(f\"\\n2011-2021 Period:\")\n",
    "print(f\"  Total number of fires: {total_fires_2011_2021}\")\n",
    "print(f\"  Year with most fires: {fires_per_year_2011_2021.idxmax()} ({fires_per_year_2011_2021.max()} fires)\")\n",
    "print(f\"  Year with fewest fires: {fires_per_year_2011_2021.idxmin()} ({fires_per_year_2011_2021.min()} fires)\")\n",
    "print(f\"  Average fires per year: {avg_2011_2021:.1f}\")\n",
    "\n",
    "print(f\"\\nComparison:\")\n",
    "print(f\"  Percentage of 2000-2021 fires occurring in 2011-2021: {(total_fires_2011_2021/total_fires_2000_2021)*100:.1f}%\")"
   ]
  }
 ],
 "metadata": {
  "kernelspec": {
   "display_name": "geospatial_env2",
   "language": "python",
   "name": "geospatial_env2"
  },
  "language_info": {
   "codemirror_mode": {
    "name": "ipython",
    "version": 3
   },
   "file_extension": ".py",
   "mimetype": "text/x-python",
   "name": "python",
   "nbconvert_exporter": "python",
   "pygments_lexer": "ipython3",
   "version": "3.11.11"
  }
 },
 "nbformat": 4,
 "nbformat_minor": 5
}
